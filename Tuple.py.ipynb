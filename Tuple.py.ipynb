{
 "cells": [
  {
   "cell_type": "markdown",
   "id": "157099d7",
   "metadata": {},
   "source": [
    "Tuple"
   ]
  },
  {
   "cell_type": "markdown",
   "id": "1b200ea9",
   "metadata": {},
   "source": [
    "Collection of elements,which enclosed with paranthesis ().\n",
    "Every element in the tuple object is represented with unique index.\n",
    "Tuples are immutable.\n",
    "it allows multiple duplicate elements."
   ]
  },
  {
   "cell_type": "markdown",
   "id": "11f28e3c",
   "metadata": {},
   "source": [
    "tuple indexing :Fetching the specific element by using the index number."
   ]
  },
  {
   "cell_type": "code",
   "execution_count": 2,
   "id": "59939f70",
   "metadata": {},
   "outputs": [
    {
     "data": {
      "text/plain": [
       "(1, 2, 3.3, 'Rvr', True)"
      ]
     },
     "execution_count": 2,
     "metadata": {},
     "output_type": "execute_result"
    }
   ],
   "source": [
    "Tuple1 = (1,2,3.3,\"Rvr\",True)           # Creating a tuple\n",
    "Tuple1"
   ]
  },
  {
   "cell_type": "code",
   "execution_count": 3,
   "id": "01b7fbd2",
   "metadata": {},
   "outputs": [
    {
     "name": "stdout",
     "output_type": "stream",
     "text": [
      "3.3\n"
     ]
    }
   ],
   "source": [
    "print(Tuple1[2])                       # tuple indexing position number 2"
   ]
  },
  {
   "cell_type": "code",
   "execution_count": 4,
   "id": "8bd2a499",
   "metadata": {},
   "outputs": [
    {
     "name": "stdout",
     "output_type": "stream",
     "text": [
      "True\n"
     ]
    }
   ],
   "source": [
    "print(Tuple1[4])                       # indexing position number 4"
   ]
  },
  {
   "cell_type": "markdown",
   "id": "e14d82c3",
   "metadata": {},
   "source": [
    "tuple slicing operation we access the range of objects of List.\n",
    "slicing operator colon (:) is used."
   ]
  },
  {
   "cell_type": "code",
   "execution_count": 5,
   "id": "a5806abf",
   "metadata": {},
   "outputs": [
    {
     "data": {
      "text/plain": [
       "(1, 2, 3.3, 'Rvr', True)"
      ]
     },
     "execution_count": 5,
     "metadata": {},
     "output_type": "execute_result"
    }
   ],
   "source": [
    "Tuple1"
   ]
  },
  {
   "cell_type": "code",
   "execution_count": 7,
   "id": "9cb3da29",
   "metadata": {},
   "outputs": [
    {
     "name": "stdout",
     "output_type": "stream",
     "text": [
      "(1, 2, 3.3, 'Rvr')\n"
     ]
    }
   ],
   "source": [
    "print(Tuple1[0:4])                    # slicing the objects range of 0 to 4"
   ]
  },
  {
   "cell_type": "code",
   "execution_count": 8,
   "id": "4e494784",
   "metadata": {},
   "outputs": [
    {
     "name": "stdout",
     "output_type": "stream",
     "text": [
      "(True, 3.3)\n"
     ]
    }
   ],
   "source": [
    "print(Tuple1[-1:-4:-2])              # slicing the objects in reverse direction "
   ]
  },
  {
   "cell_type": "markdown",
   "id": "5700dfaf",
   "metadata": {},
   "source": [
    "tuple concatenation  : we can concatenate two or more tuples into single.\n",
    "    \"+\" operator is used for concatenation."
   ]
  },
  {
   "cell_type": "code",
   "execution_count": 9,
   "id": "5aa0bf6e",
   "metadata": {},
   "outputs": [
    {
     "data": {
      "text/plain": [
       "(1, 2, 3.3, 'Rvr', True)"
      ]
     },
     "execution_count": 9,
     "metadata": {},
     "output_type": "execute_result"
    }
   ],
   "source": [
    "Tuple1"
   ]
  },
  {
   "cell_type": "code",
   "execution_count": 10,
   "id": "d251655d",
   "metadata": {},
   "outputs": [
    {
     "data": {
      "text/plain": [
       "(9, 8, 7.7, 'Kumar', False)"
      ]
     },
     "execution_count": 10,
     "metadata": {},
     "output_type": "execute_result"
    }
   ],
   "source": [
    "Tuple2 = (9,8,7.7,\"Kumar\",False)      # taking second tuple\n",
    "Tuple2"
   ]
  },
  {
   "cell_type": "code",
   "execution_count": 11,
   "id": "d7e41ab5",
   "metadata": {},
   "outputs": [
    {
     "data": {
      "text/plain": [
       "(1, 2, 3.3, 'Rvr', True, 9, 8, 7.7, 'Kumar', False)"
      ]
     },
     "execution_count": 11,
     "metadata": {},
     "output_type": "execute_result"
    }
   ],
   "source": [
    "Tuple1+Tuple2                         # concatenating Tuple1 and Tuple2"
   ]
  },
  {
   "cell_type": "markdown",
   "id": "a10ebc17",
   "metadata": {},
   "source": [
    "Tuples multiplication : python supports multiplying the given tuple into number of times.\"*\" is used for multiplication."
   ]
  },
  {
   "cell_type": "code",
   "execution_count": 12,
   "id": "6a89ee41",
   "metadata": {},
   "outputs": [
    {
     "data": {
      "text/plain": [
       "(1, 2, 3.3, 'Rvr', True)"
      ]
     },
     "execution_count": 12,
     "metadata": {},
     "output_type": "execute_result"
    }
   ],
   "source": [
    "Tuple1"
   ]
  },
  {
   "cell_type": "code",
   "execution_count": 13,
   "id": "55c4d9d3",
   "metadata": {},
   "outputs": [
    {
     "data": {
      "text/plain": [
       "(1, 2, 3.3, 'Rvr', True, 1, 2, 3.3, 'Rvr', True, 1, 2, 3.3, 'Rvr', True)"
      ]
     },
     "execution_count": 13,
     "metadata": {},
     "output_type": "execute_result"
    }
   ],
   "source": [
    "Tuple1* 3                             # multiplying the tuple with number 3"
   ]
  },
  {
   "cell_type": "markdown",
   "id": "6d161b47",
   "metadata": {},
   "source": [
    "Tuple Functions : "
   ]
  },
  {
   "cell_type": "markdown",
   "id": "81ff1d5f",
   "metadata": {},
   "source": [
    ".len() : count the number of elements in the given tuples."
   ]
  },
  {
   "cell_type": "code",
   "execution_count": 14,
   "id": "c312aa1b",
   "metadata": {},
   "outputs": [
    {
     "data": {
      "text/plain": [
       "(1, 2, 3.3, 'Rvr', True)"
      ]
     },
     "execution_count": 14,
     "metadata": {},
     "output_type": "execute_result"
    }
   ],
   "source": [
    "Tuple1"
   ]
  },
  {
   "cell_type": "code",
   "execution_count": 15,
   "id": "25dd863d",
   "metadata": {},
   "outputs": [
    {
     "data": {
      "text/plain": [
       "5"
      ]
     },
     "execution_count": 15,
     "metadata": {},
     "output_type": "execute_result"
    }
   ],
   "source": [
    "len(Tuple1)                          # counting the number of elements"
   ]
  },
  {
   "cell_type": "markdown",
   "id": "135d5d93",
   "metadata": {},
   "source": [
    ".count() : count number of occurences of a specific element."
   ]
  },
  {
   "cell_type": "code",
   "execution_count": 20,
   "id": "629b83c8",
   "metadata": {},
   "outputs": [],
   "source": [
    "Tuple3 = (1,1,1,2,2,2,3,3,3,3.5,23,3.5,6.6,6,6,6,9)      # creating tuple 3"
   ]
  },
  {
   "cell_type": "code",
   "execution_count": 21,
   "id": "6f6db523",
   "metadata": {},
   "outputs": [
    {
     "data": {
      "text/plain": [
       "(1, 1, 1, 2, 2, 2, 3, 3, 3, 3.5, 23, 3.5, 6.6, 6, 6, 6, 9)"
      ]
     },
     "execution_count": 21,
     "metadata": {},
     "output_type": "execute_result"
    }
   ],
   "source": [
    "Tuple3"
   ]
  },
  {
   "cell_type": "code",
   "execution_count": 22,
   "id": "c30fd887",
   "metadata": {},
   "outputs": [
    {
     "data": {
      "text/plain": [
       "3"
      ]
     },
     "execution_count": 22,
     "metadata": {},
     "output_type": "execute_result"
    }
   ],
   "source": [
    "Tuple3.count(6)                                          # counting the number of occurence of number 6"
   ]
  },
  {
   "cell_type": "code",
   "execution_count": 23,
   "id": "97a3f6ab",
   "metadata": {},
   "outputs": [
    {
     "data": {
      "text/plain": [
       "3"
      ]
     },
     "execution_count": 23,
     "metadata": {},
     "output_type": "execute_result"
    }
   ],
   "source": [
    "Tuple3.count(3)                                           # counting the number of occurence of number 3"
   ]
  },
  {
   "cell_type": "code",
   "execution_count": 24,
   "id": "7aa2d9dc",
   "metadata": {},
   "outputs": [
    {
     "data": {
      "text/plain": [
       "2"
      ]
     },
     "execution_count": 24,
     "metadata": {},
     "output_type": "execute_result"
    }
   ],
   "source": [
    "Tuple3.count(3.5)                                          # counting the number of occurence of number 3.5"
   ]
  },
  {
   "cell_type": "markdown",
   "id": "95d44b7e",
   "metadata": {},
   "source": [
    ".sorted : sort the elements."
   ]
  },
  {
   "cell_type": "code",
   "execution_count": 25,
   "id": "e7cb7b8c",
   "metadata": {},
   "outputs": [
    {
     "data": {
      "text/plain": [
       "[1, 1, 1, 2, 2, 2, 3, 3, 3, 3.5, 3.5, 6, 6, 6, 6.6, 9, 23]"
      ]
     },
     "execution_count": 25,
     "metadata": {},
     "output_type": "execute_result"
    }
   ],
   "source": [
    "sorted(Tuple3)                                             # sorting the elements in tuple3"
   ]
  },
  {
   "cell_type": "markdown",
   "id": "728ea793",
   "metadata": {},
   "source": [
    "sum() : Function returns sum of all the elements."
   ]
  },
  {
   "cell_type": "code",
   "execution_count": 27,
   "id": "54e346ea",
   "metadata": {},
   "outputs": [
    {
     "data": {
      "text/plain": [
       "81.6"
      ]
     },
     "execution_count": 27,
     "metadata": {},
     "output_type": "execute_result"
    }
   ],
   "source": [
    "sum(Tuple3)                                               # sum the all elements of tuple3"
   ]
  },
  {
   "cell_type": "markdown",
   "id": "46a707b8",
   "metadata": {},
   "source": [
    "min() : This function finds the minimum value of given tuple."
   ]
  },
  {
   "cell_type": "code",
   "execution_count": 28,
   "id": "51f5f7ec",
   "metadata": {},
   "outputs": [
    {
     "data": {
      "text/plain": [
       "(1, 1, 1, 2, 2, 2, 3, 3, 3, 3.5, 23, 3.5, 6.6, 6, 6, 6, 9)"
      ]
     },
     "execution_count": 28,
     "metadata": {},
     "output_type": "execute_result"
    }
   ],
   "source": [
    "Tuple3"
   ]
  },
  {
   "cell_type": "code",
   "execution_count": 29,
   "id": "aa9a3c01",
   "metadata": {},
   "outputs": [
    {
     "data": {
      "text/plain": [
       "1"
      ]
     },
     "execution_count": 29,
     "metadata": {},
     "output_type": "execute_result"
    }
   ],
   "source": [
    "min(Tuple3)                                              # minimum value in Tuple3"
   ]
  },
  {
   "cell_type": "markdown",
   "id": "faf5f05c",
   "metadata": {},
   "source": [
    "max() : This function finds the maximum value of given tuple."
   ]
  },
  {
   "cell_type": "code",
   "execution_count": 30,
   "id": "2a3ee82c",
   "metadata": {},
   "outputs": [
    {
     "data": {
      "text/plain": [
       "23"
      ]
     },
     "execution_count": 30,
     "metadata": {},
     "output_type": "execute_result"
    }
   ],
   "source": [
    "max(Tuple3)                                              # maximum value in Tuple3"
   ]
  },
  {
   "cell_type": "markdown",
   "id": "5cba99c5",
   "metadata": {},
   "source": [
    "del() : This function will delete the entire tuple.     "
   ]
  },
  {
   "cell_type": "code",
   "execution_count": 31,
   "id": "dbc20f2d",
   "metadata": {},
   "outputs": [
    {
     "data": {
      "text/plain": [
       "(1, 1, 1, 2, 2, 2, 3, 3, 3, 3.5, 23, 3.5, 6.6, 6, 6, 6, 9)"
      ]
     },
     "execution_count": 31,
     "metadata": {},
     "output_type": "execute_result"
    }
   ],
   "source": [
    "Tuple3"
   ]
  },
  {
   "cell_type": "code",
   "execution_count": 32,
   "id": "af9bf52d",
   "metadata": {},
   "outputs": [],
   "source": [
    "del(Tuple3)                                            # deleting the entire Tuple3"
   ]
  },
  {
   "cell_type": "code",
   "execution_count": 33,
   "id": "e1b13167",
   "metadata": {},
   "outputs": [
    {
     "ename": "NameError",
     "evalue": "name 'Tuple3' is not defined",
     "output_type": "error",
     "traceback": [
      "\u001b[1;31m---------------------------------------------------------------------------\u001b[0m",
      "\u001b[1;31mNameError\u001b[0m                                 Traceback (most recent call last)",
      "\u001b[1;32m~\\AppData\\Local\\Temp/ipykernel_11212/100275493.py\u001b[0m in \u001b[0;36m<module>\u001b[1;34m\u001b[0m\n\u001b[1;32m----> 1\u001b[1;33m \u001b[0mTuple3\u001b[0m\u001b[1;33m\u001b[0m\u001b[1;33m\u001b[0m\u001b[0m\n\u001b[0m",
      "\u001b[1;31mNameError\u001b[0m: name 'Tuple3' is not defined"
     ]
    }
   ],
   "source": [
    "Tuple3"
   ]
  },
  {
   "cell_type": "code",
   "execution_count": null,
   "id": "b4d6460f",
   "metadata": {},
   "outputs": [],
   "source": []
  }
 ],
 "metadata": {
  "kernelspec": {
   "display_name": "Python 3 (ipykernel)",
   "language": "python",
   "name": "python3"
  },
  "language_info": {
   "codemirror_mode": {
    "name": "ipython",
    "version": 3
   },
   "file_extension": ".py",
   "mimetype": "text/x-python",
   "name": "python",
   "nbconvert_exporter": "python",
   "pygments_lexer": "ipython3",
   "version": "3.9.7"
  }
 },
 "nbformat": 4,
 "nbformat_minor": 5
}
